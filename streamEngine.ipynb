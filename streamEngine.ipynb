{
 "cells": [
  {
   "cell_type": "code",
   "execution_count": null,
   "metadata": {},
   "outputs": [],
   "source": [
    "try:\n",
    "    spark.stop()\n",
    "except:\n",
    "    pass\n",
    "\n",
    "# Using findspark to find automatically the spark folder\n",
    "import findspark\n",
    "findspark.init()"
   ]
  },
  {
   "cell_type": "code",
   "execution_count": null,
   "metadata": {},
   "outputs": [],
   "source": [
    "from pyspark.sql import SparkSession, types\n",
    "from pyspark.sql.functions import explode\n",
    "from pyspark.sql.functions import split\n",
    "from pyspark.sql.functions import last,max"
   ]
  },
  {
   "cell_type": "code",
   "execution_count": null,
   "metadata": {},
   "outputs": [],
   "source": [
    "spark = SparkSession.builder.appName(\"dieseaseStream\").getOrCreate()"
   ]
  },
  {
   "cell_type": "code",
   "execution_count": null,
   "metadata": {
    "scrolled": true
   },
   "outputs": [],
   "source": [
    "#line = spark.readStream.format(\"socket\").option(\"host\", \"localhost\").option(\"port\", 9998).load()\n",
    "phone = spark.readStream.format(\"socket\").option(\"host\",\"192.168.1.142\").option(\"port\",9000).load()"
   ]
  },
  {
   "cell_type": "code",
   "execution_count": null,
   "metadata": {},
   "outputs": [],
   "source": [
    "#point = line.select(explode(split(line.value,\" \")).alias(\"lon\"))\n",
    "#point = point.withColumn('lat', split(point[\"lon\"], '\\,')[1])\n",
    "#point = point.withColumn('lon', split(point[\"lon\"], '\\,')[0])\n",
    "#pointCount = point.groupBy('lat','lon').count()"
   ]
  },
  {
   "cell_type": "code",
   "execution_count": null,
   "metadata": {},
   "outputs": [],
   "source": [
    "ppoint = phone.select(explode(split(phone.value,\" \")).alias(\"id\"))\n",
    "ppoint = ppoint.withColumn('lat', split(ppoint[\"id\"], '\\,')[3].cast(types.DoubleType()))\n",
    "ppoint = ppoint.withColumn('lon', split(ppoint[\"id\"], '\\,')[2].cast(types.DoubleType()))\n",
    "ppoint = ppoint.withColumn('timestamp', split(ppoint[\"id\"], '\\,')[1].cast(types.LongType()))\n",
    "ppoint = ppoint.withColumn('id', split(ppoint[\"id\"], '\\,')[0])\n",
    "latest = ppoint.groupby('id').agg(max('timestamp'), last('lat'), last('lon')).toDF('id','time','lat','lon').drop('id','time')"
   ]
  },
  {
   "cell_type": "code",
   "execution_count": null,
   "metadata": {},
   "outputs": [],
   "source": [
    "query = latest.writeStream.outputMode('complete').format(\"console\").start()\n",
    "query.awaitTermination()"
   ]
  },
  {
   "cell_type": "code",
   "execution_count": null,
   "metadata": {},
   "outputs": [],
   "source": []
  }
 ],
 "metadata": {
  "kernelspec": {
   "display_name": "Python 3",
   "language": "python",
   "name": "python3"
  },
  "language_info": {
   "codemirror_mode": {
    "name": "ipython",
    "version": 3
   },
   "file_extension": ".py",
   "mimetype": "text/x-python",
   "name": "python",
   "nbconvert_exporter": "python",
   "pygments_lexer": "ipython3",
   "version": "3.7.4"
  }
 },
 "nbformat": 4,
 "nbformat_minor": 2
}

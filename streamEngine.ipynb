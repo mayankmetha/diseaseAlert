{
 "cells": [
  {
   "cell_type": "code",
   "execution_count": 1,
   "metadata": {},
   "outputs": [],
   "source": [
    "# stop spark\n",
    "try:\n",
    "    spark.stop()\n",
    "except:\n",
    "    pass\n",
    "\n",
    "# Using findspark to find automatically the spark folder\n",
    "import findspark\n",
    "findspark.init()\n",
    "\n",
    "#import numpy\n",
    "import numpy as np\n",
    "\n",
    "# init variables\n",
    "minlon,maxlon,minlat,maxlat=-180.0,180.0,-90.0,90.0\n",
    "\n",
    "# write 0 to file\n",
    "f = open('tmp','w')\n",
    "f.write(str(0)+\"\\n\")\n",
    "f.close()"
   ]
  },
  {
   "cell_type": "code",
   "execution_count": 2,
   "metadata": {},
   "outputs": [],
   "source": [
    "# import pyspark packages\n",
    "from pyspark.sql import SparkSession, types\n",
    "from pyspark.sql.functions import explode\n",
    "from pyspark.sql.functions import split, col\n",
    "from pyspark.sql.functions import last,max"
   ]
  },
  {
   "cell_type": "code",
   "execution_count": 3,
   "metadata": {},
   "outputs": [],
   "source": [
    "# init spark session\n",
    "spark = SparkSession.builder.appName(\"engine\").getOrCreate()"
   ]
  },
  {
   "cell_type": "code",
   "execution_count": 4,
   "metadata": {
    "scrolled": true
   },
   "outputs": [],
   "source": [
    "# read 2 streams - 1) local socket, 2) Android device\n",
    "line = spark.readStream.format(\"socket\").option(\"host\", \"localhost\").option(\"port\", 9998).load()\n",
    "phone = spark.readStream.format(\"socket\").option(\"host\",\"192.168.1.143\").option(\"port\",9000).load()"
   ]
  },
  {
   "cell_type": "code",
   "execution_count": 5,
   "metadata": {},
   "outputs": [],
   "source": [
    "# split anddroid device stream to id,timestamp,lon,lat\n",
    "ppoint = phone.select(explode(split(phone.value,\" \")).alias(\"id\"))\n",
    "ppoint = ppoint.withColumn('lat', split(ppoint[\"id\"], '\\,')[3].cast(types.FloatType()))\n",
    "ppoint = ppoint.withColumn('lon', split(ppoint[\"id\"], '\\,')[2].cast(types.FloatType()))\n",
    "ppoint = ppoint.withColumn('timestamp', split(ppoint[\"id\"], '\\,')[1].cast(types.LongType()))\n",
    "ppoint = ppoint.withColumn('id', split(ppoint[\"id\"], '\\,')[0])\n",
    "# get latest lon,lat\n",
    "ppoint = ppoint.groupby('id').agg(max('timestamp'), last('lat'), last('lon')).toDF('id','time','lat','lon').drop('id','time')\n",
    "\n",
    "def batchProcess2(sdf, epoch_id):\n",
    "    # convert microbatch to pandas df\n",
    "    df = sdf.toPandas()\n",
    "    if df.empty:\n",
    "        pass\n",
    "    else:\n",
    "        global minlon\n",
    "        global maxlon\n",
    "        global minlat\n",
    "        global maxlat\n",
    "        # extract the variables from pandas df\n",
    "        minlon = float(df.iloc[0]['lon'] - 0.5)\n",
    "        maxlon = float(df.iloc[0]['lon'] + 0.5)\n",
    "        minlat = float(df.iloc[0]['lat'] - 0.5)\n",
    "        maxlat = float(df.iloc[0]['lat'] + 0.5)"
   ]
  },
  {
   "cell_type": "code",
   "execution_count": 6,
   "metadata": {},
   "outputs": [],
   "source": [
    "# split socket stream to lat,lon\n",
    "point = line.select(explode(split(line.value,\" \")).alias(\"lon\"))\n",
    "point = point.withColumn('lat', split(point[\"lon\"], '\\,')[1].cast(types.FloatType()))\n",
    "point = point.withColumn('lon', split(point[\"lon\"], '\\,')[0].cast(types.FloatType()))\n",
    "# count grouped by (lat,lon)\n",
    "point = point.groupby('lat','lon').count()\n",
    "def batchProcess1(sdf, epoch_id):\n",
    "    global minlon\n",
    "    global maxlon\n",
    "    global minlat\n",
    "    global maxlat\n",
    "    # convert microbatch to pandas df\n",
    "    df = sdf.toPandas()\n",
    "    # pandas filter to find data withing range\n",
    "    df1 = df[(df['lat']>=minlat)&(df['lat']<=maxlat)&(df['lon']>=minlon)&(df['lon']<=maxlon)]\n",
    "    #print(np.sum(df1['count'].to_numpy()))\n",
    "    # write sum(count) to file\n",
    "    f = open('tmp','w')\n",
    "    f.write(str(np.sum(df1['count'].to_numpy()))+\"\\n\")\n",
    "    f.close()"
   ]
  },
  {
   "cell_type": "code",
   "execution_count": 7,
   "metadata": {},
   "outputs": [
    {
     "data": {
      "text/plain": [
       "<pyspark.sql.streaming.StreamingQuery at 0x126325790>"
      ]
     },
     "execution_count": 7,
     "metadata": {},
     "output_type": "execute_result"
    }
   ],
   "source": [
    "# foreach process for the 2 streams, run in background\n",
    "ppoint.writeStream.outputMode(\"complete\").foreachBatch(batchProcess2).start()\n",
    "point.writeStream.outputMode(\"complete\").foreachBatch(batchProcess1).start()"
   ]
  },
  {
   "cell_type": "code",
   "execution_count": null,
   "metadata": {},
   "outputs": [],
   "source": []
  }
 ],
 "metadata": {
  "kernelspec": {
   "display_name": "Python 3",
   "language": "python",
   "name": "python3"
  },
  "language_info": {
   "codemirror_mode": {
    "name": "ipython",
    "version": 3
   },
   "file_extension": ".py",
   "mimetype": "text/x-python",
   "name": "python",
   "nbconvert_exporter": "python",
   "pygments_lexer": "ipython3",
   "version": "3.7.4"
  }
 },
 "nbformat": 4,
 "nbformat_minor": 2
}
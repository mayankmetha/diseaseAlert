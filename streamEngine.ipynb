{
 "cells": [
  {
   "cell_type": "code",
   "execution_count": null,
   "metadata": {},
   "outputs": [],
   "source": [
    "try:\n",
    "    spark.stop()\n",
    "except:\n",
    "    pass\n",
    "\n",
    "# Using findspark to find automatically the spark folder\n",
    "import findspark\n",
    "findspark.init()"
   ]
  },
  {
   "cell_type": "code",
   "execution_count": null,
   "metadata": {},
   "outputs": [],
   "source": [
    "from pyspark.sql import SparkSession, types\n",
    "from pyspark.sql.functions import explode\n",
    "from pyspark.sql.functions import split, col\n",
    "from pyspark.sql.functions import last,max"
   ]
  },
  {
   "cell_type": "code",
   "execution_count": null,
   "metadata": {},
   "outputs": [],
   "source": [
    "spark = SparkSession.builder.appName(\"phase1\").getOrCreate()"
   ]
  },
  {
   "cell_type": "code",
   "execution_count": null,
   "metadata": {
    "scrolled": true
   },
   "outputs": [],
   "source": [
    "line = spark.readStream.format(\"socket\").option(\"host\", \"localhost\").option(\"port\", 9998).load()\n",
    "phone = spark.readStream.format(\"socket\").option(\"host\",\"192.168.1.123\").option(\"port\",9000).load()"
   ]
  },
  {
   "cell_type": "code",
   "execution_count": null,
   "metadata": {},
   "outputs": [],
   "source": [
    "point = line.select(explode(split(line.value,\" \")).alias(\"id\"))\n",
    "point = point.withColumn('id', split(point[\"id\"], '\\,')[2].cast(types.DoubleType()))\n",
    "point = point.withColumn('lat', split(point[\"id\"], '\\,')[1].cast(types.DoubleType()))\n",
    "point = point.withColumn('lon', split(point[\"id\"], '\\,')[0].cast(types.DoubleType()))\n",
    "point = point.groupBy('lat','lon').count()\n",
    "\n",
    "def batchProcess1(sdf, epoch_id):\n",
    "    df = sdf.toPandas()\n",
    "    print(df.head())\n",
    "    if df.empty:\n",
    "        pass\n",
    "    else:\n",
    "        df.to_csv('tmp/s1/'+str(epoch_id)+'.csv',header=False,index=False)\n",
    "        \n",
    "point.writeStream.outputMode(\"complete\").foreachBatch(batchProcess1).start() "
   ]
  },
  {
   "cell_type": "code",
   "execution_count": null,
   "metadata": {},
   "outputs": [],
   "source": [
    "ppoint = phone.select(explode(split(phone.value,\" \")).alias(\"id\"))\n",
    "ppoint = ppoint.withColumn('lat', split(ppoint[\"id\"], '\\,')[3].cast(types.FloatType()))\n",
    "ppoint = ppoint.withColumn('lon', split(ppoint[\"id\"], '\\,')[2].cast(types.FloatType()))\n",
    "ppoint = ppoint.withColumn('timestamp', split(ppoint[\"id\"], '\\,')[1].cast(types.LongType()))\n",
    "ppoint = ppoint.withColumn('id', split(ppoint[\"id\"], '\\,')[0])\n",
    "ppoint = ppoint.groupby('id').agg(max('timestamp'), last('lat'), last('lon')).toDF('id','time','lat','lon').drop('id','time')\n",
    "\n",
    "def batchProcess2(sdf, epoch_id):\n",
    "    df = sdf.toPandas()\n",
    "    if df.empty:\n",
    "        pass\n",
    "    else:\n",
    "        minloc = float(df.iloc[0]['lon'] - 0.25)\n",
    "        maxloc = float(df.iloc[0]['lon'] + 0.25)\n",
    "        minlat = float(df.iloc[0]['lat'] - 0.25)\n",
    "        maxlat = float(df.iloc[0]['lat'] + 0.25)\n",
    "        f = open('tmp/s2/'+str(epoch_id)+'.csv','w')\n",
    "        f.write(str(minloc)+','+str(maxloc)+','+str(minlat)+','+str(maxlat)+'\\n')\n",
    "        f.close()\n",
    "\n",
    "ppoint.writeStream.outputMode(\"complete\").foreachBatch(batchProcess2).start()   "
   ]
  },
  {
   "cell_type": "code",
   "execution_count": null,
   "metadata": {},
   "outputs": [],
   "source": []
  }
 ],
 "metadata": {
  "kernelspec": {
   "display_name": "Python 3",
   "language": "python",
   "name": "python3"
  },
  "language_info": {
   "codemirror_mode": {
    "name": "ipython",
    "version": 3
   },
   "file_extension": ".py",
   "mimetype": "text/x-python",
   "name": "python",
   "nbconvert_exporter": "python",
   "pygments_lexer": "ipython3",
   "version": "3.7.4"
  }
 },
 "nbformat": 4,
 "nbformat_minor": 2
}
